{
 "cells": [
  {
   "cell_type": "code",
   "execution_count": null,
   "metadata": {
    "collapsed": true,
    "execution": {
     "iopub.execute_input": "2024-10-03T14:12:48.167909Z",
     "iopub.status.busy": "2024-10-03T14:12:48.167600Z",
     "iopub.status.idle": "2024-10-03T14:13:28.610643Z",
     "shell.execute_reply": "2024-10-03T14:13:28.609524Z",
     "shell.execute_reply.started": "2024-10-03T14:12:48.167877Z"
    },
    "jupyter": {
     "outputs_hidden": true
    },
    "trusted": true
   },
   "outputs": [],
   "source": [
    "# !pip install ultralytics\n",
    "# !pip install roboflow\n",
    "# !pip install -U ipywidgets"
   ]
  },
  {
   "cell_type": "code",
   "execution_count": 1,
   "metadata": {
    "execution": {
     "iopub.execute_input": "2024-10-03T14:13:28.613371Z",
     "iopub.status.busy": "2024-10-03T14:13:28.612950Z",
     "iopub.status.idle": "2024-10-03T14:13:28.618099Z",
     "shell.execute_reply": "2024-10-03T14:13:28.617130Z",
     "shell.execute_reply.started": "2024-10-03T14:13:28.613327Z"
    },
    "trusted": true
   },
   "outputs": [],
   "source": [
    "import os\n",
    "os.environ['WANDB_MODE'] = 'disabled'"
   ]
  },
  {
   "cell_type": "markdown",
   "metadata": {},
   "source": [
    "# Import Libraries"
   ]
  },
  {
   "cell_type": "code",
   "execution_count": 2,
   "metadata": {
    "execution": {
     "iopub.execute_input": "2024-10-03T14:13:28.641795Z",
     "iopub.status.busy": "2024-10-03T14:13:28.641415Z",
     "iopub.status.idle": "2024-10-03T14:13:34.925856Z",
     "shell.execute_reply": "2024-10-03T14:13:34.924959Z",
     "shell.execute_reply.started": "2024-10-03T14:13:28.641753Z"
    },
    "trusted": true
   },
   "outputs": [],
   "source": [
    "from ultralytics import YOLO"
   ]
  },
  {
   "cell_type": "markdown",
   "metadata": {},
   "source": [
    "# Load Data"
   ]
  },
  {
   "cell_type": "code",
   "execution_count": null,
   "metadata": {},
   "outputs": [],
   "source": [
    "model = YOLO(r\"model_car_parts.pt\")"
   ]
  },
  {
   "cell_type": "markdown",
   "metadata": {},
   "source": [
    "# Display the existing class names in the model"
   ]
  },
  {
   "cell_type": "code",
   "execution_count": null,
   "metadata": {},
   "outputs": [
    {
     "name": "stdout",
     "output_type": "stream",
     "text": [
      "\n",
      "0: 'Alloy_Rim_Back_Leftside',\n",
      " 1: 'Alloy_Rim_Back_Rightside',\n",
      " 2: 'Alloy_Rim_Front_Leftside',\n",
      " 3: 'Alloy_Rim_Front_Rightside',\n",
      " 4: 'Antenna',\n",
      " 5: 'Back-Bumper',\n",
      " 6: 'Back-Logo'\n",
      "\n"
     ]
    }
   ],
   "source": [
    "model.names"
   ]
  },
  {
   "cell_type": "markdown",
   "metadata": {},
   "source": [
    "# Change Labels"
   ]
  },
  {
   "cell_type": "code",
   "execution_count": null,
   "metadata": {},
   "outputs": [
    {
     "name": "stdout",
     "output_type": "stream",
     "text": [
      "\n",
      "{0: 'Alloy_Rim_Back_Leftside',\n",
      " 1: 'Alloy_Rim_Back_Rightside',\n",
      " 2: 'Alloy_Rim_Front_Leftside',\n",
      " 3: 'Alloy_Rim_Front_Rightside',\n",
      " 4: 'Antenna',\n",
      " 5: 'Back-Bumper',\n",
      " 6: 'Back-Logo'}\n",
      "\n"
     ]
    }
   ],
   "source": [
    "import torch\n",
    "\n",
    "model = torch.load(r\"model_car_parts.pt\", map_location=\"cpu\")\n",
    "\n",
    "model[\"model\"].names"
   ]
  },
  {
   "cell_type": "code",
   "execution_count": 7,
   "metadata": {},
   "outputs": [],
   "source": [
    "# Dictionary mapping old class names to new class names\n",
    "car_parts_class_mapping = {\n",
    "    0: 'Alloy-Rim_BLS',\n",
    "    1: 'Alloy-Rim_BRS',\n",
    "    2: 'Alloy-Rim_FLS',\n",
    "    3: 'Alloy-Rim_FRS',\n",
    "    4: 'Antenna',\n",
    "    5: 'Back-Bumper',\n",
    "    6: 'Back-Logo',\n",
    "}"
   ]
  },
  {
   "cell_type": "code",
   "execution_count": null,
   "metadata": {},
   "outputs": [],
   "source": [
    "# Update the model with new class names\n",
    "model[\"model\"].names = car_parts_class_mapping"
   ]
  },
  {
   "cell_type": "markdown",
   "metadata": {},
   "source": [
    "# Check the updated class names"
   ]
  },
  {
   "cell_type": "code",
   "execution_count": null,
   "metadata": {},
   "outputs": [
    {
     "name": "stdout",
     "output_type": "stream",
     "text": [
      "\n",
      "{\n",
      "    0: 'Alloy-Rim_BLS',\n",
      "    1: 'Alloy-Rim_BRS',\n",
      "    2: 'Alloy-Rim_FLS',\n",
      "    3: 'Alloy-Rim_FRS',\n",
      "    4: 'Antenna',\n",
      "    5: 'Back-Bumper',\n",
      "    6: 'Back-Logo',\n",
      "}\n",
      "\n"
     ]
    }
   ],
   "source": [
    "model[\"model\"].names"
   ]
  },
  {
   "cell_type": "markdown",
   "metadata": {},
   "source": [
    "# Save the model with updated class names"
   ]
  },
  {
   "cell_type": "code",
   "execution_count": null,
   "metadata": {},
   "outputs": [],
   "source": [
    "torch.save(model, r\"model_updated.pt\")"
   ]
  },
  {
   "cell_type": "code",
   "execution_count": null,
   "metadata": {},
   "outputs": [],
   "source": []
  }
 ],
 "metadata": {
  "kaggle": {
   "accelerator": "none",
   "dataSources": [],
   "dockerImageVersionId": 30776,
   "isGpuEnabled": false,
   "isInternetEnabled": true,
   "language": "python",
   "sourceType": "notebook"
  },
  "kernelspec": {
   "display_name": "Python 3",
   "language": "python",
   "name": "python3"
  },
  "language_info": {
   "codemirror_mode": {
    "name": "ipython",
    "version": 3
   },
   "file_extension": ".py",
   "mimetype": "text/x-python",
   "name": "python",
   "nbconvert_exporter": "python",
   "pygments_lexer": "ipython3",
   "version": "3.12.7"
  }
 },
 "nbformat": 4,
 "nbformat_minor": 4
}
